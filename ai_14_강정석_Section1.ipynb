{
  "nbformat": 4,
  "nbformat_minor": 0,
  "metadata": {
    "colab": {
      "name": "ai_14_강정석_Section1.ipynb",
      "provenance": [],
      "mount_file_id": "1q_H1Pd5PJwv6KbC2pOKSiVWA3wF9a81g",
      "authorship_tag": "ABX9TyNsksldm0HEUzy1KeDn6Z6I",
      "include_colab_link": true
    },
    "kernelspec": {
      "name": "python3",
      "display_name": "Python 3"
    },
    "language_info": {
      "name": "python"
    }
  },
  "cells": [
    {
      "cell_type": "markdown",
      "metadata": {
        "id": "view-in-github",
        "colab_type": "text"
      },
      "source": [
        "<a href=\"https://colab.research.google.com/github/nankjs/SectionProject/blob/main/ai_14_%EA%B0%95%EC%A0%95%EC%84%9D_Section1.ipynb\" target=\"_parent\"><img src=\"https://colab.research.google.com/assets/colab-badge.svg\" alt=\"Open In Colab\"/></a>"
      ]
    },
    {
      "cell_type": "code",
      "execution_count": 35,
      "metadata": {
        "id": "a7D2DYFOzNRt"
      },
      "outputs": [],
      "source": [
        "import numpy as np\n",
        "import pandas as pd\n",
        "import matplotlib.pyplot as plt\n"
      ]
    },
    {
      "cell_type": "code",
      "source": [
        "o_d = pd.read_csv('/content/drive/MyDrive/ColabData/CodeStates/Sec1/vgames2.csv')\n",
        "o_d.info()"
      ],
      "metadata": {
        "id": "VIXX4Fbp39Rc",
        "colab": {
          "base_uri": "https://localhost:8080/"
        },
        "outputId": "5bc7529d-c3ad-490a-a519-bcc4fe607dc2"
      },
      "execution_count": 66,
      "outputs": [
        {
          "output_type": "stream",
          "name": "stdout",
          "text": [
            "<class 'pandas.core.frame.DataFrame'>\n",
            "RangeIndex: 16598 entries, 0 to 16597\n",
            "Data columns (total 10 columns):\n",
            " #   Column       Non-Null Count  Dtype  \n",
            "---  ------       --------------  -----  \n",
            " 0   Unnamed: 0   16598 non-null  int64  \n",
            " 1   Name         16598 non-null  object \n",
            " 2   Platform     16598 non-null  object \n",
            " 3   Year         16327 non-null  float64\n",
            " 4   Genre        16548 non-null  object \n",
            " 5   Publisher    16540 non-null  object \n",
            " 6   NA_Sales     16598 non-null  object \n",
            " 7   EU_Sales     16598 non-null  object \n",
            " 8   JP_Sales     16598 non-null  object \n",
            " 9   Other_Sales  16598 non-null  object \n",
            "dtypes: float64(1), int64(1), object(8)\n",
            "memory usage: 1.3+ MB\n"
          ]
        }
      ]
    },
    {
      "cell_type": "code",
      "source": [
        "od = o_d.copy()\n",
        "\n",
        "# 게임 이름에서 series명 분리하여 새로운 열을 만들고 3번째 열로 삽입\n",
        "od.insert(2,'Sname', od.Name[od.Name.str.contains(':')].str.split(':').str[0])\n",
        "od.Sname = od.Sname.fillna('FirstEd')\n",
        "\n",
        "od = od.iloc[:,1:] # 이전 인덱스 열 삭제\n",
        "od['Year'] = od['Year'].astype('Int64').astype('str') # 연도를 문자열로 변환\n",
        "\n",
        "# 출고량 필드의 단위를 K 즉 1,000단위로 해석하고 문자열 K, M을 단순 입력 실수로 보고 삭제\n",
        "# 소수로 표현된 출고량 값 전체를 의미있게 해석하는 방법이라 생각됨.\n",
        "od.iloc[:,6:10] = od.iloc[:,6:10].replace(r'[a-zA-Z]',r'',regex = True)\n",
        "od.iloc[:,6:10] = od.iloc[:,6:10].astype('float') * 1000\n",
        "od['sumSales'] = od.iloc[:,6:10].sum(axis = 1)\n",
        "\n",
        "# 실수형을 정수형으로 변환\n",
        "for i in range(6,11,1):\n",
        "  od.iloc[:,i] = od.iloc[:,i].astype(int)\n",
        "\n",
        "# 중복행 삭제 후 재인덱스.\n",
        "print(od[od.duplicated()])\n",
        "od = od.drop_duplicates()\n",
        "od.reset_index(drop=True)\n",
        "\n",
        "od.info()\n",
        "od.describe()"
      ],
      "metadata": {
        "id": "-ESHF1G-54vQ",
        "colab": {
          "base_uri": "https://localhost:8080/",
          "height": 718
        },
        "outputId": "07511929-1ecf-4644-f7c8-c8653a85000f"
      },
      "execution_count": 37,
      "outputs": [
        {
          "output_type": "stream",
          "name": "stdout",
          "text": [
            "                             Name         Sname Platform  Year    Genre  \\\n",
            "9184  Wii de Asobu: Metroid Prime  Wii de Asobu      Wii  <NA>  Shooter   \n",
            "\n",
            "     Publisher  NA_Sales  EU_Sales  JP_Sales  Other_Sales  sumSales  \n",
            "9184  Nintendo         0         0        20            0        20  \n",
            "<class 'pandas.core.frame.DataFrame'>\n",
            "Int64Index: 16597 entries, 0 to 16597\n",
            "Data columns (total 11 columns):\n",
            " #   Column       Non-Null Count  Dtype \n",
            "---  ------       --------------  ----- \n",
            " 0   Name         16597 non-null  object\n",
            " 1   Sname        16597 non-null  object\n",
            " 2   Platform     16597 non-null  object\n",
            " 3   Year         16597 non-null  object\n",
            " 4   Genre        16547 non-null  object\n",
            " 5   Publisher    16539 non-null  object\n",
            " 6   NA_Sales     16597 non-null  int64 \n",
            " 7   EU_Sales     16597 non-null  int64 \n",
            " 8   JP_Sales     16597 non-null  int64 \n",
            " 9   Other_Sales  16597 non-null  int64 \n",
            " 10  sumSales     16597 non-null  int64 \n",
            "dtypes: int64(5), object(6)\n",
            "memory usage: 1.5+ MB\n"
          ]
        },
        {
          "output_type": "execute_result",
          "data": {
            "text/plain": [
              "           NA_Sales      EU_Sales      JP_Sales    Other_Sales      sumSales\n",
              "count  1.659700e+04  1.659700e+04  1.659700e+04   16597.000000  1.659700e+04\n",
              "mean   2.530295e+03  1.080834e+03  5.364451e+02     280.405435  4.427980e+03\n",
              "std    6.928059e+04  3.181653e+04  2.393439e+04    7259.117858  8.039555e+04\n",
              "min    0.000000e+00  0.000000e+00  0.000000e+00       0.000000  0.000000e+00\n",
              "25%    0.000000e+00  0.000000e+00  0.000000e+00       0.000000  6.000000e+01\n",
              "50%    8.000000e+01  2.000000e+01  0.000000e+00      10.000000  1.800000e+02\n",
              "75%    2.400000e+02  1.100000e+02  4.000000e+01      40.000000  5.000000e+02\n",
              "max    5.170000e+06  2.560000e+06  2.780000e+06  560000.000000  5.179180e+06"
            ],
            "text/html": [
              "\n",
              "  <div id=\"df-54a8501a-271e-49ca-b303-1098b78b4d71\">\n",
              "    <div class=\"colab-df-container\">\n",
              "      <div>\n",
              "<style scoped>\n",
              "    .dataframe tbody tr th:only-of-type {\n",
              "        vertical-align: middle;\n",
              "    }\n",
              "\n",
              "    .dataframe tbody tr th {\n",
              "        vertical-align: top;\n",
              "    }\n",
              "\n",
              "    .dataframe thead th {\n",
              "        text-align: right;\n",
              "    }\n",
              "</style>\n",
              "<table border=\"1\" class=\"dataframe\">\n",
              "  <thead>\n",
              "    <tr style=\"text-align: right;\">\n",
              "      <th></th>\n",
              "      <th>NA_Sales</th>\n",
              "      <th>EU_Sales</th>\n",
              "      <th>JP_Sales</th>\n",
              "      <th>Other_Sales</th>\n",
              "      <th>sumSales</th>\n",
              "    </tr>\n",
              "  </thead>\n",
              "  <tbody>\n",
              "    <tr>\n",
              "      <th>count</th>\n",
              "      <td>1.659700e+04</td>\n",
              "      <td>1.659700e+04</td>\n",
              "      <td>1.659700e+04</td>\n",
              "      <td>16597.000000</td>\n",
              "      <td>1.659700e+04</td>\n",
              "    </tr>\n",
              "    <tr>\n",
              "      <th>mean</th>\n",
              "      <td>2.530295e+03</td>\n",
              "      <td>1.080834e+03</td>\n",
              "      <td>5.364451e+02</td>\n",
              "      <td>280.405435</td>\n",
              "      <td>4.427980e+03</td>\n",
              "    </tr>\n",
              "    <tr>\n",
              "      <th>std</th>\n",
              "      <td>6.928059e+04</td>\n",
              "      <td>3.181653e+04</td>\n",
              "      <td>2.393439e+04</td>\n",
              "      <td>7259.117858</td>\n",
              "      <td>8.039555e+04</td>\n",
              "    </tr>\n",
              "    <tr>\n",
              "      <th>min</th>\n",
              "      <td>0.000000e+00</td>\n",
              "      <td>0.000000e+00</td>\n",
              "      <td>0.000000e+00</td>\n",
              "      <td>0.000000</td>\n",
              "      <td>0.000000e+00</td>\n",
              "    </tr>\n",
              "    <tr>\n",
              "      <th>25%</th>\n",
              "      <td>0.000000e+00</td>\n",
              "      <td>0.000000e+00</td>\n",
              "      <td>0.000000e+00</td>\n",
              "      <td>0.000000</td>\n",
              "      <td>6.000000e+01</td>\n",
              "    </tr>\n",
              "    <tr>\n",
              "      <th>50%</th>\n",
              "      <td>8.000000e+01</td>\n",
              "      <td>2.000000e+01</td>\n",
              "      <td>0.000000e+00</td>\n",
              "      <td>10.000000</td>\n",
              "      <td>1.800000e+02</td>\n",
              "    </tr>\n",
              "    <tr>\n",
              "      <th>75%</th>\n",
              "      <td>2.400000e+02</td>\n",
              "      <td>1.100000e+02</td>\n",
              "      <td>4.000000e+01</td>\n",
              "      <td>40.000000</td>\n",
              "      <td>5.000000e+02</td>\n",
              "    </tr>\n",
              "    <tr>\n",
              "      <th>max</th>\n",
              "      <td>5.170000e+06</td>\n",
              "      <td>2.560000e+06</td>\n",
              "      <td>2.780000e+06</td>\n",
              "      <td>560000.000000</td>\n",
              "      <td>5.179180e+06</td>\n",
              "    </tr>\n",
              "  </tbody>\n",
              "</table>\n",
              "</div>\n",
              "      <button class=\"colab-df-convert\" onclick=\"convertToInteractive('df-54a8501a-271e-49ca-b303-1098b78b4d71')\"\n",
              "              title=\"Convert this dataframe to an interactive table.\"\n",
              "              style=\"display:none;\">\n",
              "        \n",
              "  <svg xmlns=\"http://www.w3.org/2000/svg\" height=\"24px\"viewBox=\"0 0 24 24\"\n",
              "       width=\"24px\">\n",
              "    <path d=\"M0 0h24v24H0V0z\" fill=\"none\"/>\n",
              "    <path d=\"M18.56 5.44l.94 2.06.94-2.06 2.06-.94-2.06-.94-.94-2.06-.94 2.06-2.06.94zm-11 1L8.5 8.5l.94-2.06 2.06-.94-2.06-.94L8.5 2.5l-.94 2.06-2.06.94zm10 10l.94 2.06.94-2.06 2.06-.94-2.06-.94-.94-2.06-.94 2.06-2.06.94z\"/><path d=\"M17.41 7.96l-1.37-1.37c-.4-.4-.92-.59-1.43-.59-.52 0-1.04.2-1.43.59L10.3 9.45l-7.72 7.72c-.78.78-.78 2.05 0 2.83L4 21.41c.39.39.9.59 1.41.59.51 0 1.02-.2 1.41-.59l7.78-7.78 2.81-2.81c.8-.78.8-2.07 0-2.86zM5.41 20L4 18.59l7.72-7.72 1.47 1.35L5.41 20z\"/>\n",
              "  </svg>\n",
              "      </button>\n",
              "      \n",
              "  <style>\n",
              "    .colab-df-container {\n",
              "      display:flex;\n",
              "      flex-wrap:wrap;\n",
              "      gap: 12px;\n",
              "    }\n",
              "\n",
              "    .colab-df-convert {\n",
              "      background-color: #E8F0FE;\n",
              "      border: none;\n",
              "      border-radius: 50%;\n",
              "      cursor: pointer;\n",
              "      display: none;\n",
              "      fill: #1967D2;\n",
              "      height: 32px;\n",
              "      padding: 0 0 0 0;\n",
              "      width: 32px;\n",
              "    }\n",
              "\n",
              "    .colab-df-convert:hover {\n",
              "      background-color: #E2EBFA;\n",
              "      box-shadow: 0px 1px 2px rgba(60, 64, 67, 0.3), 0px 1px 3px 1px rgba(60, 64, 67, 0.15);\n",
              "      fill: #174EA6;\n",
              "    }\n",
              "\n",
              "    [theme=dark] .colab-df-convert {\n",
              "      background-color: #3B4455;\n",
              "      fill: #D2E3FC;\n",
              "    }\n",
              "\n",
              "    [theme=dark] .colab-df-convert:hover {\n",
              "      background-color: #434B5C;\n",
              "      box-shadow: 0px 1px 3px 1px rgba(0, 0, 0, 0.15);\n",
              "      filter: drop-shadow(0px 1px 2px rgba(0, 0, 0, 0.3));\n",
              "      fill: #FFFFFF;\n",
              "    }\n",
              "  </style>\n",
              "\n",
              "      <script>\n",
              "        const buttonEl =\n",
              "          document.querySelector('#df-54a8501a-271e-49ca-b303-1098b78b4d71 button.colab-df-convert');\n",
              "        buttonEl.style.display =\n",
              "          google.colab.kernel.accessAllowed ? 'block' : 'none';\n",
              "\n",
              "        async function convertToInteractive(key) {\n",
              "          const element = document.querySelector('#df-54a8501a-271e-49ca-b303-1098b78b4d71');\n",
              "          const dataTable =\n",
              "            await google.colab.kernel.invokeFunction('convertToInteractive',\n",
              "                                                     [key], {});\n",
              "          if (!dataTable) return;\n",
              "\n",
              "          const docLinkHtml = 'Like what you see? Visit the ' +\n",
              "            '<a target=\"_blank\" href=https://colab.research.google.com/notebooks/data_table.ipynb>data table notebook</a>'\n",
              "            + ' to learn more about interactive tables.';\n",
              "          element.innerHTML = '';\n",
              "          dataTable['output_type'] = 'display_data';\n",
              "          await google.colab.output.renderOutput(dataTable, element);\n",
              "          const docLink = document.createElement('div');\n",
              "          docLink.innerHTML = docLinkHtml;\n",
              "          element.appendChild(docLink);\n",
              "        }\n",
              "      </script>\n",
              "    </div>\n",
              "  </div>\n",
              "  "
            ]
          },
          "metadata": {},
          "execution_count": 37
        }
      ]
    },
    {
      "cell_type": "code",
      "source": [
        "# 결측치 검토\n",
        "print(od.isnull().sum())\n",
        "\n",
        "nullGenre = od.Genre.isnull()\n",
        "nullPubli = od.Publisher.isnull()\n",
        "nullYear = od.Year == '<NA>'\n",
        "nullDel = nullGenre | nullPubli | nullYear\n",
        "# odm = od[nullDel]\n",
        "print('결측치 수 : ', nullDel.sum())\n"
      ],
      "metadata": {
        "id": "g4jenl2GR7pW",
        "colab": {
          "base_uri": "https://localhost:8080/"
        },
        "outputId": "ca8fdb36-dd7a-4ec4-f679-22ff2d259822"
      },
      "execution_count": 38,
      "outputs": [
        {
          "output_type": "stream",
          "name": "stdout",
          "text": [
            "Name            0\n",
            "Sname           0\n",
            "Platform        0\n",
            "Year            0\n",
            "Genre          50\n",
            "Publisher      58\n",
            "NA_Sales        0\n",
            "EU_Sales        0\n",
            "JP_Sales        0\n",
            "Other_Sales     0\n",
            "sumSales        0\n",
            "dtype: int64\n",
            "결측치 수 :  356\n"
          ]
        }
      ]
    },
    {
      "cell_type": "code",
      "source": [
        "# Name이 중복값이 거의 없어 id역할을 할 수 있을 것으로 가정하고 채움\n",
        "odm = od[od.Genre.isnull()]\n",
        "odm_cmpl = od[od.Genre.notnull()]\n",
        "print('장르 결측치 / 전체 레코드 수 : ' , odm.shape[0], ' / ', od.shape[0])\n"
      ],
      "metadata": {
        "colab": {
          "base_uri": "https://localhost:8080/"
        },
        "id": "2iQ029XYK-HK",
        "outputId": "b59563d4-7ac5-41db-e076-1a7932860ad8"
      },
      "execution_count": 64,
      "outputs": [
        {
          "output_type": "stream",
          "name": "stdout",
          "text": [
            "장르 결측치 / 전체 레코드 수 :  50  /  16597\n"
          ]
        }
      ]
    },
    {
      "cell_type": "markdown",
      "source": [
        "# 새 섹션"
      ],
      "metadata": {
        "id": "bFg_uqvADvRh"
      }
    },
    {
      "cell_type": "code",
      "source": [
        "'''\n",
        "출고량 필드 중 K와 M이 삽입된 값들을 1,000과 1,000,000 단위의 표시로 보았을 때 처리\n",
        "그러나 소수 이하로 표시된 다른 값들을 해석할 수 없어 방향을 바꿈\n",
        "\n",
        "t_m = od[od.iloc[:,6].str.contains('M')].iloc[:,6].str.extract('(\\d+.\\d+|\\d+)').reset_index()\n",
        "t_m.iloc[:,1] = pd.to_numeric(t_sV.iloc[:,1])*1000000\n",
        "t_m.iloc[:,1].astype(str)\n",
        "od.iloc[t_m.iloc[:,0],6] = t_m.iloc[:,1]\n",
        "\n",
        "t_k = od[od.iloc[:,6].str.contains('K')].iloc[:,6].str.extract('(\\d+.\\d+|\\d+)').reset_index()\n",
        "t_k.iloc[:,1] = pd.to_numeric(t_sV.iloc[:,1])*1000\n",
        "t_k.iloc[:,1].astype(str)\n",
        "od.iloc[t_k.iloc[:,0],6] = t_k.iloc[:,1]\n",
        "\n",
        "od.iloc[:,6] = pd.to_numeric(od.iloc[:,6])\n",
        "\n",
        "'''\n"
      ],
      "metadata": {
        "id": "eEkOFD6Fsxxx"
      },
      "execution_count": null,
      "outputs": []
    }
  ]
}